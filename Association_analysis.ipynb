{
  "nbformat": 4,
  "nbformat_minor": 0,
  "metadata": {
    "colab": {
      "name": "ECS766_Ass3_210936704.ipynb",
      "provenance": []
    },
    "kernelspec": {
      "name": "python3",
      "display_name": "Python 3"
    },
    "language_info": {
      "name": "python"
    }
  },
  "cells": [
    {
      "cell_type": "markdown",
      "source": [
        "# **Part 1**"
      ],
      "metadata": {
        "id": "Yv1wRZRs0S_K"
      }
    },
    {
      "cell_type": "markdown",
      "source": [
        "[0.5 marks] In the transaction dataset used in the tutorial presented above, for a support threshold of 40%, is the itemset  {{Kidney Beans}, {Eggs}, {Yogurt}}  considered frequent?"
      ],
      "metadata": {
        "id": "WRzomFcflbz_"
      }
    },
    {
      "cell_type": "code",
      "execution_count": 2,
      "metadata": {
        "id": "cfbulGiF0QEj"
      },
      "outputs": [],
      "source": [
        "dataset = [['Milk', 'Onion', 'Nutmeg', 'Kidney Beans', 'Eggs', 'Yogurt'],\n",
        "           ['Dill', 'Onion', 'Nutmeg', 'Kidney Beans', 'Eggs', 'Yogurt'],\n",
        "           ['Milk', 'Apple', 'Kidney Beans', 'Eggs'],\n",
        "           ['Milk', 'Unicorn', 'Corn', 'Kidney Beans', 'Yogurt'],\n",
        "           ['Corn', 'Onion', 'Onion', 'Kidney Beans', 'Ice cream', 'Eggs']]"
      ]
    },
    {
      "cell_type": "code",
      "execution_count": 3,
      "metadata": {
        "id": "UVRaQhnB0QEk"
      },
      "outputs": [],
      "source": [
        "from mlxtend.preprocessing import TransactionEncoder\n",
        "\n",
        "te = TransactionEncoder()\n",
        "te_ary = te.fit_transform(dataset)"
      ]
    },
    {
      "cell_type": "code",
      "execution_count": 4,
      "metadata": {
        "id": "EaJVGL2P0QEk"
      },
      "outputs": [],
      "source": [
        "import pandas as pd\n",
        "\n",
        "df = pd.DataFrame(te_ary, columns=te.columns_)"
      ]
    },
    {
      "cell_type": "code",
      "source": [
        "from mlxtend.frequent_patterns import apriori\n",
        "frequent_itemsets = apriori(df, min_support=0.4, use_colnames=True) "
      ],
      "metadata": {
        "id": "1zP0Q930o_VK"
      },
      "execution_count": null,
      "outputs": []
    },
    {
      "cell_type": "code",
      "source": [
        "frequent_itemsets['length'] = frequent_itemsets['itemsets'].apply(lambda x: len(x)) # length of each frozenset\n",
        "print('Frequent 3-itemsets:')\n",
        "display(frequent_itemsets[frequent_itemsets['length'] == 3])"
      ],
      "metadata": {
        "colab": {
          "base_uri": "https://localhost:8080/",
          "height": 444
        },
        "id": "Qi-I3Rlkpars",
        "outputId": "2a8926da-bc55-4014-c923-f19dba876844"
      },
      "execution_count": null,
      "outputs": [
        {
          "output_type": "stream",
          "name": "stdout",
          "text": [
            "Frequent 3-itemsets:\n"
          ]
        },
        {
          "output_type": "display_data",
          "data": {
            "text/plain": [
              "    support                        itemsets  length\n",
              "21      0.4      (Eggs, Kidney Beans, Milk)       3\n",
              "22      0.4    (Nutmeg, Eggs, Kidney Beans)       3\n",
              "23      0.6     (Onion, Eggs, Kidney Beans)       3\n",
              "24      0.4    (Yogurt, Eggs, Kidney Beans)       3\n",
              "25      0.4           (Onion, Eggs, Nutmeg)       3\n",
              "26      0.4          (Yogurt, Eggs, Nutmeg)       3\n",
              "27      0.4           (Onion, Eggs, Yogurt)       3\n",
              "28      0.4    (Yogurt, Kidney Beans, Milk)       3\n",
              "29      0.4   (Onion, Kidney Beans, Nutmeg)       3\n",
              "30      0.4  (Yogurt, Kidney Beans, Nutmeg)       3\n",
              "31      0.4   (Onion, Yogurt, Kidney Beans)       3\n",
              "32      0.4         (Onion, Yogurt, Nutmeg)       3"
            ],
            "text/html": [
              "\n",
              "  <div id=\"df-91df2073-b5c9-4f2a-831d-368bb75ae2ab\">\n",
              "    <div class=\"colab-df-container\">\n",
              "      <div>\n",
              "<style scoped>\n",
              "    .dataframe tbody tr th:only-of-type {\n",
              "        vertical-align: middle;\n",
              "    }\n",
              "\n",
              "    .dataframe tbody tr th {\n",
              "        vertical-align: top;\n",
              "    }\n",
              "\n",
              "    .dataframe thead th {\n",
              "        text-align: right;\n",
              "    }\n",
              "</style>\n",
              "<table border=\"1\" class=\"dataframe\">\n",
              "  <thead>\n",
              "    <tr style=\"text-align: right;\">\n",
              "      <th></th>\n",
              "      <th>support</th>\n",
              "      <th>itemsets</th>\n",
              "      <th>length</th>\n",
              "    </tr>\n",
              "  </thead>\n",
              "  <tbody>\n",
              "    <tr>\n",
              "      <th>21</th>\n",
              "      <td>0.4</td>\n",
              "      <td>(Eggs, Kidney Beans, Milk)</td>\n",
              "      <td>3</td>\n",
              "    </tr>\n",
              "    <tr>\n",
              "      <th>22</th>\n",
              "      <td>0.4</td>\n",
              "      <td>(Nutmeg, Eggs, Kidney Beans)</td>\n",
              "      <td>3</td>\n",
              "    </tr>\n",
              "    <tr>\n",
              "      <th>23</th>\n",
              "      <td>0.6</td>\n",
              "      <td>(Onion, Eggs, Kidney Beans)</td>\n",
              "      <td>3</td>\n",
              "    </tr>\n",
              "    <tr>\n",
              "      <th>24</th>\n",
              "      <td>0.4</td>\n",
              "      <td>(Yogurt, Eggs, Kidney Beans)</td>\n",
              "      <td>3</td>\n",
              "    </tr>\n",
              "    <tr>\n",
              "      <th>25</th>\n",
              "      <td>0.4</td>\n",
              "      <td>(Onion, Eggs, Nutmeg)</td>\n",
              "      <td>3</td>\n",
              "    </tr>\n",
              "    <tr>\n",
              "      <th>26</th>\n",
              "      <td>0.4</td>\n",
              "      <td>(Yogurt, Eggs, Nutmeg)</td>\n",
              "      <td>3</td>\n",
              "    </tr>\n",
              "    <tr>\n",
              "      <th>27</th>\n",
              "      <td>0.4</td>\n",
              "      <td>(Onion, Eggs, Yogurt)</td>\n",
              "      <td>3</td>\n",
              "    </tr>\n",
              "    <tr>\n",
              "      <th>28</th>\n",
              "      <td>0.4</td>\n",
              "      <td>(Yogurt, Kidney Beans, Milk)</td>\n",
              "      <td>3</td>\n",
              "    </tr>\n",
              "    <tr>\n",
              "      <th>29</th>\n",
              "      <td>0.4</td>\n",
              "      <td>(Onion, Kidney Beans, Nutmeg)</td>\n",
              "      <td>3</td>\n",
              "    </tr>\n",
              "    <tr>\n",
              "      <th>30</th>\n",
              "      <td>0.4</td>\n",
              "      <td>(Yogurt, Kidney Beans, Nutmeg)</td>\n",
              "      <td>3</td>\n",
              "    </tr>\n",
              "    <tr>\n",
              "      <th>31</th>\n",
              "      <td>0.4</td>\n",
              "      <td>(Onion, Yogurt, Kidney Beans)</td>\n",
              "      <td>3</td>\n",
              "    </tr>\n",
              "    <tr>\n",
              "      <th>32</th>\n",
              "      <td>0.4</td>\n",
              "      <td>(Onion, Yogurt, Nutmeg)</td>\n",
              "      <td>3</td>\n",
              "    </tr>\n",
              "  </tbody>\n",
              "</table>\n",
              "</div>\n",
              "      <button class=\"colab-df-convert\" onclick=\"convertToInteractive('df-91df2073-b5c9-4f2a-831d-368bb75ae2ab')\"\n",
              "              title=\"Convert this dataframe to an interactive table.\"\n",
              "              style=\"display:none;\">\n",
              "        \n",
              "  <svg xmlns=\"http://www.w3.org/2000/svg\" height=\"24px\"viewBox=\"0 0 24 24\"\n",
              "       width=\"24px\">\n",
              "    <path d=\"M0 0h24v24H0V0z\" fill=\"none\"/>\n",
              "    <path d=\"M18.56 5.44l.94 2.06.94-2.06 2.06-.94-2.06-.94-.94-2.06-.94 2.06-2.06.94zm-11 1L8.5 8.5l.94-2.06 2.06-.94-2.06-.94L8.5 2.5l-.94 2.06-2.06.94zm10 10l.94 2.06.94-2.06 2.06-.94-2.06-.94-.94-2.06-.94 2.06-2.06.94z\"/><path d=\"M17.41 7.96l-1.37-1.37c-.4-.4-.92-.59-1.43-.59-.52 0-1.04.2-1.43.59L10.3 9.45l-7.72 7.72c-.78.78-.78 2.05 0 2.83L4 21.41c.39.39.9.59 1.41.59.51 0 1.02-.2 1.41-.59l7.78-7.78 2.81-2.81c.8-.78.8-2.07 0-2.86zM5.41 20L4 18.59l7.72-7.72 1.47 1.35L5.41 20z\"/>\n",
              "  </svg>\n",
              "      </button>\n",
              "      \n",
              "  <style>\n",
              "    .colab-df-container {\n",
              "      display:flex;\n",
              "      flex-wrap:wrap;\n",
              "      gap: 12px;\n",
              "    }\n",
              "\n",
              "    .colab-df-convert {\n",
              "      background-color: #E8F0FE;\n",
              "      border: none;\n",
              "      border-radius: 50%;\n",
              "      cursor: pointer;\n",
              "      display: none;\n",
              "      fill: #1967D2;\n",
              "      height: 32px;\n",
              "      padding: 0 0 0 0;\n",
              "      width: 32px;\n",
              "    }\n",
              "\n",
              "    .colab-df-convert:hover {\n",
              "      background-color: #E2EBFA;\n",
              "      box-shadow: 0px 1px 2px rgba(60, 64, 67, 0.3), 0px 1px 3px 1px rgba(60, 64, 67, 0.15);\n",
              "      fill: #174EA6;\n",
              "    }\n",
              "\n",
              "    [theme=dark] .colab-df-convert {\n",
              "      background-color: #3B4455;\n",
              "      fill: #D2E3FC;\n",
              "    }\n",
              "\n",
              "    [theme=dark] .colab-df-convert:hover {\n",
              "      background-color: #434B5C;\n",
              "      box-shadow: 0px 1px 3px 1px rgba(0, 0, 0, 0.15);\n",
              "      filter: drop-shadow(0px 1px 2px rgba(0, 0, 0, 0.3));\n",
              "      fill: #FFFFFF;\n",
              "    }\n",
              "  </style>\n",
              "\n",
              "      <script>\n",
              "        const buttonEl =\n",
              "          document.querySelector('#df-91df2073-b5c9-4f2a-831d-368bb75ae2ab button.colab-df-convert');\n",
              "        buttonEl.style.display =\n",
              "          google.colab.kernel.accessAllowed ? 'block' : 'none';\n",
              "\n",
              "        async function convertToInteractive(key) {\n",
              "          const element = document.querySelector('#df-91df2073-b5c9-4f2a-831d-368bb75ae2ab');\n",
              "          const dataTable =\n",
              "            await google.colab.kernel.invokeFunction('convertToInteractive',\n",
              "                                                     [key], {});\n",
              "          if (!dataTable) return;\n",
              "\n",
              "          const docLinkHtml = 'Like what you see? Visit the ' +\n",
              "            '<a target=\"_blank\" href=https://colab.research.google.com/notebooks/data_table.ipynb>data table notebook</a>'\n",
              "            + ' to learn more about interactive tables.';\n",
              "          element.innerHTML = '';\n",
              "          dataTable['output_type'] = 'display_data';\n",
              "          await google.colab.output.renderOutput(dataTable, element);\n",
              "          const docLink = document.createElement('div');\n",
              "          docLink.innerHTML = docLinkHtml;\n",
              "          element.appendChild(docLink);\n",
              "        }\n",
              "      </script>\n",
              "    </div>\n",
              "  </div>\n",
              "  "
            ]
          },
          "metadata": {}
        }
      ]
    },
    {
      "cell_type": "markdown",
      "source": [
        "[0.5 marks] Implement a function that receives a binary DataFrame of transactions and an association rule (represented by a frozenset of antecedents and a frozenset of consequents). This function should return the corresponding Kulczynski measure."
      ],
      "metadata": {
        "id": "o9ALgPggqcwq"
      }
    },
    {
      "cell_type": "markdown",
      "source": [
        "[0.5 marks] Implement a function that receives a binary DataFrame of transactions and an association rule (represented by a frozenset of antecedents and a frozenset of consequents). This function should return the corresponding imbalance ratio."
      ],
      "metadata": {
        "id": "NDzIJlT-c3fv"
      }
    },
    {
      "cell_type": "markdown",
      "source": [
        "answer: our function returns both Kulczynski measure and imbalance ratio"
      ],
      "metadata": {
        "id": "A5aqaIcutLtX"
      }
    },
    {
      "cell_type": "code",
      "source": [
        "from mlxtend.frequent_patterns import apriori\n",
        "\n",
        "\n",
        "def calculate_measures(bin_dataframe, target_rule):\n",
        "  \"\"\"\n",
        "  bin_dataframe: binary dataframe of transactions with columns\n",
        "  \"\"\"\n",
        "  frequent_itemsets = apriori(df, use_colnames=True)\n",
        "\n",
        "  support = {}\n",
        "  for _, row in frequent_itemsets.iterrows():\n",
        "    support[row['itemsets']] = row['support']\n",
        "\n",
        "  antecedents, consequents = target_rule\n",
        "  supp_consequents = support[consequents]\n",
        "  supp_antecedents = support[antecedents]\n",
        "\n",
        "  listoffrozensets = [antecedents, consequents]\n",
        "  itemsets_union = frozenset().union(*listoffrozensets)\n",
        "  rule_support = support[itemsets_union]\n",
        "\n",
        "  # calculate Kulczynski measure and imbalance ratio\n",
        "  kulc = (rule_support / supp_consequents + rule_support / supp_antecedents) / 2\n",
        "  ir = abs((supp_antecedents - supp_consequents) / (supp_antecedents + supp_consequents - rule_support))\n",
        "  \n",
        "  return kulc, ir"
      ],
      "metadata": {
        "id": "8g7hmXHrMHZA"
      },
      "execution_count": 7,
      "outputs": []
    },
    {
      "cell_type": "markdown",
      "source": [
        "test the function"
      ],
      "metadata": {
        "id": "yMPFIHYDtoyV"
      }
    },
    {
      "cell_type": "code",
      "source": [
        "target_rule = (frozenset(['Onion', 'Eggs']),frozenset(['Kidney Beans']))\n",
        "rule_Kulczynski_rate, rule_imbalance_ratio = calculate_measures(df, target_rule)\n",
        "print(rule_Kulczynski_rate, 'rule_Kulczynski_rate')\n",
        "print(rule_imbalance_ratio, 'rule_imbalance_ratio')"
      ],
      "metadata": {
        "colab": {
          "base_uri": "https://localhost:8080/"
        },
        "id": "o4kh1LYEtYlO",
        "outputId": "ff68db50-ca2b-414e-d9f7-4d1f49639434"
      },
      "execution_count": 8,
      "outputs": [
        {
          "output_type": "stream",
          "name": "stdout",
          "text": [
            "0.8 rule_Kulczynski_rate\n",
            "0.4 rule_imbalance_ratio\n"
          ]
        }
      ]
    },
    {
      "cell_type": "markdown",
      "source": [
        "# **PART 2**"
      ],
      "metadata": {
        "id": "_xphwdvz6JNn"
      }
    },
    {
      "cell_type": "markdown",
      "source": [
        "[1 mark] The monthly rainfall in the London borough of Tower Hamlets in 2019 had the following amount of precipitation (measured in mm, values from January-December 2018): {22.93, 20.69, 25.75, 23.84, 25.34, 3.25, 23.55, 28.28, 23.72, 22.42, 26.83, 23.82}. Assuming that the data is based on a normal distribution, identify outlier values in the above dataset using the maximum likelihood method."
      ],
      "metadata": {
        "id": "HUsczOBo6OCu"
      }
    },
    {
      "cell_type": "code",
      "source": [
        "import numpy as np\n",
        "monthly_rainfall = [22.93, 20.69, 25.75, 23.84, 25.34, 3.25, 23.55, 28.28, 23.72, 22.42, 26.83, 23.82]\n",
        "rainfall = np.array(monthly_rainfall)\n",
        "print(rainfall.mean(), rainfall.std())"
      ],
      "metadata": {
        "colab": {
          "base_uri": "https://localhost:8080/"
        },
        "id": "DjvQzS0K6SxO",
        "outputId": "4af99605-2a1e-4b3b-c159-ee27dab95f9c"
      },
      "execution_count": null,
      "outputs": [
        {
          "output_type": "stream",
          "name": "stdout",
          "text": [
            "22.534999999999997 6.130045540885756\n"
          ]
        }
      ]
    },
    {
      "cell_type": "code",
      "source": [
        "mean_distance = rainfall - rainfall.mean()\n",
        "print(abs(mean_distance))"
      ],
      "metadata": {
        "colab": {
          "base_uri": "https://localhost:8080/"
        },
        "id": "d1Ak-xABCmlW",
        "outputId": "d0435e1e-5549-4ad5-fb46-0ebdf69a9718"
      },
      "execution_count": null,
      "outputs": [
        {
          "output_type": "stream",
          "name": "stdout",
          "text": [
            "[ 0.395  1.845  3.215  1.305  2.805 19.285  1.015  5.745  1.185  0.115\n",
            "  4.295  1.285]\n"
          ]
        }
      ]
    },
    {
      "cell_type": "code",
      "source": [
        "std_measure = mean_distance / rainfall.std()\n",
        "print(abs(std_measure))"
      ],
      "metadata": {
        "colab": {
          "base_uri": "https://localhost:8080/"
        },
        "id": "DK0R4AfDDJge",
        "outputId": "b5f7eaac-2ef2-4c36-8c92-262682086772"
      },
      "execution_count": null,
      "outputs": [
        {
          "output_type": "stream",
          "name": "stdout",
          "text": [
            "[0.06443672 0.30097656 0.52446592 0.21288586 0.45758224 3.14597989\n",
            " 0.16557789 0.93718716 0.19331015 0.01876006 0.70064732 0.20962324]\n"
          ]
        }
      ]
    },
    {
      "cell_type": "markdown",
      "source": [
        "[1 mark] Using the house prices dataset from Section 3 of this lab notebook, use PCA to obtain the first 2 principal components (remember that PCA should only be applied on the input attributes, and not the target; remember also to normalise using z-scores for better results). Then, perform outlier detection on the pre-processed dataset using the k-nearest neighbours approach using k=2. Display a scatterplot of the two principal components, where each object is colour-coded according to the computed outlier score."
      ],
      "metadata": {
        "id": "nak2P93SR9bJ"
      }
    },
    {
      "cell_type": "code",
      "execution_count": 1,
      "metadata": {
        "colab": {
          "base_uri": "https://localhost:8080/"
        },
        "outputId": "1f5dc399-8e0a-4247-83ee-2803a58e9b6f",
        "id": "9-YSHaAjeSuq"
      },
      "outputs": [
        {
          "output_type": "stream",
          "name": "stdout",
          "text": [
            "(506, 13) (506,)\n"
          ]
        }
      ],
      "source": [
        "from pandas import read_csv\n",
        "\n",
        "# Loading the dataset\n",
        "url = 'https://raw.githubusercontent.com/jbrownlee/Datasets/master/housing.csv'\n",
        "df = read_csv(url, header=None)\n",
        "\n",
        "# Extracting the values from the dataframe\n",
        "data = df.values\n",
        "\n",
        "# Split dataset into input and output elements\n",
        "X, y = data[:, :-1], data[:, -1]\n",
        "\n",
        "# Summarize the shape of the dataset\n",
        "print(X.shape, y.shape)"
      ]
    },
    {
      "cell_type": "code",
      "source": [
        "from scipy import stats\n",
        "X_norm = stats.zscore(X, axis=1)\n",
        "X_norm.shape"
      ],
      "metadata": {
        "colab": {
          "base_uri": "https://localhost:8080/"
        },
        "id": "XC1dFlzJesc7",
        "outputId": "d15b32aa-f9e8-4fe5-b693-73a4cb266a59"
      },
      "execution_count": 2,
      "outputs": [
        {
          "output_type": "execute_result",
          "data": {
            "text/plain": [
              "(506, 13)"
            ]
          },
          "metadata": {},
          "execution_count": 2
        }
      ]
    },
    {
      "cell_type": "code",
      "source": [
        "from sklearn.decomposition import PCA\n",
        "import pandas as pd\n",
        "\n",
        "pca2 = PCA(n_components=2)\n",
        "principalComponents = pca2.fit_transform(X_norm)\n",
        "\n",
        "principalDf = pd.DataFrame(data = principalComponents, columns = ['principal component 1', 'principal component 2'])\n",
        "\n",
        "principalDf.info()"
      ],
      "metadata": {
        "id": "Zzsnfw85O6fU",
        "colab": {
          "base_uri": "https://localhost:8080/"
        },
        "outputId": "79364999-133e-481e-cabd-ae749a1fe484"
      },
      "execution_count": 5,
      "outputs": [
        {
          "output_type": "stream",
          "name": "stdout",
          "text": [
            "<class 'pandas.core.frame.DataFrame'>\n",
            "RangeIndex: 506 entries, 0 to 505\n",
            "Data columns (total 2 columns):\n",
            " #   Column                 Non-Null Count  Dtype  \n",
            "---  ------                 --------------  -----  \n",
            " 0   principal component 1  506 non-null    float64\n",
            " 1   principal component 2  506 non-null    float64\n",
            "dtypes: float64(2)\n",
            "memory usage: 8.0 KB\n"
          ]
        }
      ]
    },
    {
      "cell_type": "code",
      "execution_count": 6,
      "metadata": {
        "id": "n-IjtbYnD2ep"
      },
      "outputs": [],
      "source": [
        "from sklearn.neighbors import NearestNeighbors\n",
        "import numpy as np\n",
        "from scipy.spatial import distance\n",
        "\n",
        "# Implement a k-nearest neighbour approach using k=2 neighbours\n",
        "k = 2\n",
        "nbrs = NearestNeighbors(n_neighbors=k, metric=distance.euclidean).fit(principalDf.values)\n",
        "distances, indices = nbrs.kneighbors(principalDf.values)\n",
        "\n",
        "# The outlier score is set as the distance between the point and its k-th nearest neighbour\n",
        "outlier_score = distances[:,k-1]"
      ]
    },
    {
      "cell_type": "code",
      "source": [
        "# Plot 3D scatterplot of outlier scores\n",
        "fig = plt.figure(figsize=(10,6))\n",
        "ax = fig.add_subplot(111)\n",
        "p = ax.scatter(principalDf['principal component 1'],principalDf['principal component 2'],c=outlier_score,cmap='jet')\n",
        "ax.set_xlabel('PC1')\n",
        "ax.set_ylabel('PC2')\n",
        "fig.colorbar(p)\n",
        "plt.show()"
      ],
      "metadata": {
        "colab": {
          "base_uri": "https://localhost:8080/",
          "height": 388
        },
        "id": "lpvX7qhQhXeC",
        "outputId": "9bbb84ea-4a4d-42bf-f6ca-ae3eef0e1d93"
      },
      "execution_count": 9,
      "outputs": [
        {
          "output_type": "display_data",
          "data": {
            "text/plain": [
              "<Figure size 720x432 with 2 Axes>"
            ],
            "image/png": "[encoded data removed]"
          },
          "metadata": {
            "needs_background": "light"
          }
        }
      ]
    },
    {
      "cell_type": "markdown",
      "source": [
        "[1 mark] Consider the absenteeism.csv data set."
      ],
      "metadata": {
        "id": "FdK6344GUfN7"
      }
    },
    {
      "cell_type": "markdown",
      "source": [
        "a. The \"ID\" column is the employee identifier. Consider the number of absences for each employee and find outliers among those values. Use Grubb's test with  𝛼=0.1  to find said outliers."
      ],
      "metadata": {
        "id": "FBygY8FXxvei"
      }
    },
    {
      "cell_type": "code",
      "execution_count": 36,
      "metadata": {
        "id": "C_QUxnqyD2ew"
      },
      "outputs": [],
      "source": [
        "import pandas as pd\n",
        "df = pd.read_csv(\"absenteeism.csv\", header=\"infer\", delimiter=\";\")"
      ]
    },
    {
      "cell_type": "code",
      "source": [
        "df.shape"
      ],
      "metadata": {
        "colab": {
          "base_uri": "https://localhost:8080/"
        },
        "id": "kw3bgGtyhD2B",
        "outputId": "6ff46376-b1c7-4bde-fb02-6431bd4ee54c"
      },
      "execution_count": 37,
      "outputs": [
        {
          "output_type": "execute_result",
          "data": {
            "text/plain": [
              "(740, 21)"
            ]
          },
          "metadata": {},
          "execution_count": 37
        }
      ]
    },
    {
      "cell_type": "code",
      "source": [
        "df.columns"
      ],
      "metadata": {
        "colab": {
          "base_uri": "https://localhost:8080/"
        },
        "id": "GIMSJSskxNqp",
        "outputId": "48c9982c-a700-47ee-e2ee-a78bc96c515a"
      },
      "execution_count": 38,
      "outputs": [
        {
          "output_type": "execute_result",
          "data": {
            "text/plain": [
              "Index(['ID', 'Reason for absence', 'Month of absence', 'Day of the week',\n",
              "       'Seasons', 'Transportation expense', 'Distance from Residence to Work',\n",
              "       'Service time', 'Age', 'Work load Average/day ', 'Hit target',\n",
              "       'Disciplinary failure', 'Education', 'Son', 'Social drinker',\n",
              "       'Social smoker', 'Pet', 'Weight', 'Height', 'Body mass index',\n",
              "       'Absenteeism time in hours'],\n",
              "      dtype='object')"
            ]
          },
          "metadata": {},
          "execution_count": 38
        }
      ]
    },
    {
      "cell_type": "markdown",
      "source": [
        "First count the number of rows for each employee ID"
      ],
      "metadata": {
        "id": "_JEg4Ny3pvnA"
      }
    },
    {
      "cell_type": "code",
      "source": [
        "employee_absence = df['ID'].value_counts()\n",
        "employee_absence.head()"
      ],
      "metadata": {
        "colab": {
          "base_uri": "https://localhost:8080/"
        },
        "id": "K_k_1KPhy44g",
        "outputId": "dc80b610-8c1b-4eab-da43-1dc78355c3de"
      },
      "execution_count": 39,
      "outputs": [
        {
          "output_type": "execute_result",
          "data": {
            "text/plain": [
              "3     113\n",
              "28     76\n",
              "34     55\n",
              "22     46\n",
              "20     42\n",
              "Name: ID, dtype: int64"
            ]
          },
          "metadata": {},
          "execution_count": 39
        }
      ]
    },
    {
      "cell_type": "code",
      "source": [
        "print(employee_absence.min(),'min')\n",
        "print(employee_absence.max(),'max')"
      ],
      "metadata": {
        "id": "Ye3Y1oNtLlLA",
        "outputId": "38fc01e6-d1a9-4f16-c6e5-603a5c878ccf",
        "colab": {
          "base_uri": "https://localhost:8080/"
        }
      },
      "execution_count": 40,
      "outputs": [
        {
          "output_type": "stream",
          "name": "stdout",
          "text": [
            "1 min\n",
            "113 max\n"
          ]
        }
      ]
    },
    {
      "cell_type": "markdown",
      "source": [
        "Then calculate the z-score for each value_count"
      ],
      "metadata": {
        "id": "NaZaI_bzqWbV"
      }
    },
    {
      "cell_type": "code",
      "source": [
        "from scipy import stats\n",
        "\n",
        "z_score = stats.zscore(employee_absence)\n",
        "z_score.head()"
      ],
      "metadata": {
        "colab": {
          "base_uri": "https://localhost:8080/"
        },
        "id": "SXJc1KvM2atc",
        "outputId": "b6a95999-d529-4e71-8bf3-27802cebf5bd"
      },
      "execution_count": 42,
      "outputs": [
        {
          "output_type": "execute_result",
          "data": {
            "text/plain": [
              "3     3.956771\n",
              "28    2.373112\n",
              "34    1.474278\n",
              "22    1.089063\n",
              "20    0.917857\n",
              "Name: ID, dtype: float64"
            ]
          },
          "metadata": {},
          "execution_count": 42
        }
      ]
    },
    {
      "cell_type": "markdown",
      "source": [
        "The squared upper critical value at a significance of  𝛼/(2𝑁)  with  𝑁−2  degrees of freedom is :"
      ],
      "metadata": {
        "id": "CaK7Ki9qqcVG"
      }
    },
    {
      "cell_type": "code",
      "execution_count": 43,
      "metadata": {
        "colab": {
          "base_uri": "https://localhost:8080/"
        },
        "id": "26VkzRJlD2ew",
        "outputId": "411e1fbd-1ac6-4908-9411-f6acd43eecb9"
      },
      "outputs": [
        {
          "output_type": "execute_result",
          "data": {
            "text/plain": [
              "10.404726495863276"
            ]
          },
          "metadata": {},
          "execution_count": 43
        }
      ],
      "source": [
        "from scipy.stats import t\n",
        "N = 36\n",
        "alpha=0.1\n",
        "t2 = t.interval( 1-alpha/N, N-2)[1]**2\n",
        "t2"
      ]
    },
    {
      "cell_type": "code",
      "source": [
        "import math\n",
        "Grubb_value = ( (N-1) / math.sqrt(N) ) * math.sqrt(t2 / (N-2+t2))\n",
        "print(Grubb_value)"
      ],
      "metadata": {
        "colab": {
          "base_uri": "https://localhost:8080/"
        },
        "id": "V9cBaK4B7nWk",
        "outputId": "3d04aa42-2b70-406e-ba83-7b37f0fd80b9"
      },
      "execution_count": null,
      "outputs": [
        {
          "output_type": "stream",
          "name": "stdout",
          "text": [
            "2.8236933338407426\n"
          ]
        }
      ]
    },
    {
      "cell_type": "markdown",
      "source": [
        "check that which employee ID has the z_score of more than 2.8236933338407426"
      ],
      "metadata": {
        "id": "NHsbB62lqkml"
      }
    },
    {
      "cell_type": "code",
      "source": [
        "z_score[z_score>=Grubb_value]"
      ],
      "metadata": {
        "colab": {
          "base_uri": "https://localhost:8080/"
        },
        "id": "EQxdeiXB9Qaw",
        "outputId": "1dca28d4-7fb4-44b6-a993-64b797021ad9"
      },
      "execution_count": null,
      "outputs": [
        {
          "output_type": "execute_result",
          "data": {
            "text/plain": [
              "3    3.956771\n",
              "Name: ID, dtype: float64"
            ]
          },
          "metadata": {},
          "execution_count": 39
        }
      ]
    },
    {
      "cell_type": "markdown",
      "source": [
        "Epoloyee with ID of 3 is the outlier"
      ],
      "metadata": {
        "id": "hrfRS49Pq1BK"
      }
    },
    {
      "cell_type": "code",
      "source": [
        "employee_absence.at[3]"
      ],
      "metadata": {
        "colab": {
          "base_uri": "https://localhost:8080/"
        },
        "id": "IGly-RVpojxt",
        "outputId": "e79cb6f9-4c6e-49b7-c2b4-1a453fcc0b8c"
      },
      "execution_count": 44,
      "outputs": [
        {
          "output_type": "execute_result",
          "data": {
            "text/plain": [
              "113"
            ]
          },
          "metadata": {},
          "execution_count": 44
        }
      ]
    },
    {
      "cell_type": "markdown",
      "source": [
        "b. The attribute \"Reason for absence\" is categorical. The label \"26\" corresponds to \"Unjustified absence\". Again, consider the number of absences for each employee. However, now you must find contextual outliers among cases of unjustified absences, again using Grubb's test with 𝛼=0.1."
      ],
      "metadata": {
        "id": "aznXjAvruLJm"
      }
    },
    {
      "cell_type": "code",
      "source": [
        "df_unjustified = df[df['Reason for absence']==26]"
      ],
      "metadata": {
        "id": "jF6mVRTpuP-E"
      },
      "execution_count": 47,
      "outputs": []
    },
    {
      "cell_type": "code",
      "source": [
        "df_unjustified.info()"
      ],
      "metadata": {
        "id": "tS-i-L8Zu7xH"
      },
      "execution_count": null,
      "outputs": []
    },
    {
      "cell_type": "code",
      "source": [
        "employee_unjustified_absence = df_unjustified['ID'].value_counts()"
      ],
      "metadata": {
        "id": "FwOYKxZuvS-x"
      },
      "execution_count": 49,
      "outputs": []
    },
    {
      "cell_type": "code",
      "source": [
        "employee_unjustified_absence.size"
      ],
      "metadata": {
        "colab": {
          "base_uri": "https://localhost:8080/"
        },
        "id": "yx13_zKhv5qN",
        "outputId": "9cf9db2e-86a6-4c1a-9187-9000f90c1798"
      },
      "execution_count": 52,
      "outputs": [
        {
          "output_type": "execute_result",
          "data": {
            "text/plain": [
              "11"
            ]
          },
          "metadata": {},
          "execution_count": 52
        }
      ]
    },
    {
      "cell_type": "code",
      "source": [
        "print(employee_unjustified_absence.min(),'min')\n",
        "print(employee_unjustified_absence.max(),'max')"
      ],
      "metadata": {
        "colab": {
          "base_uri": "https://localhost:8080/"
        },
        "id": "l-wzDQ5Kw741",
        "outputId": "8799d919-58ca-42af-d5a9-198b9e8afa89"
      },
      "execution_count": 58,
      "outputs": [
        {
          "output_type": "stream",
          "name": "stdout",
          "text": [
            "1 min\n",
            "9 max\n"
          ]
        }
      ]
    },
    {
      "cell_type": "code",
      "source": [
        "from scipy import stats\n",
        "\n",
        "z_score = stats.zscore(employee_unjustified_absence)\n",
        "z_score.head()"
      ],
      "metadata": {
        "colab": {
          "base_uri": "https://localhost:8080/"
        },
        "outputId": "c4231019-3c02-4440-c68a-25ad85259317",
        "id": "AhwvGo-xv56K"
      },
      "execution_count": 53,
      "outputs": [
        {
          "output_type": "execute_result",
          "data": {
            "text/plain": [
              "5     2.527271\n",
              "11    1.263635\n",
              "20    0.421212\n",
              "34    0.000000\n",
              "1    -0.421212\n",
              "Name: ID, dtype: float64"
            ]
          },
          "metadata": {},
          "execution_count": 53
        }
      ]
    },
    {
      "cell_type": "code",
      "execution_count": 54,
      "metadata": {
        "colab": {
          "base_uri": "https://localhost:8080/"
        },
        "outputId": "ad4788a4-18db-4b33-ec2d-ec2d27a7141b",
        "id": "JjFhQcCUv9A9"
      },
      "outputs": [
        {
          "output_type": "execute_result",
          "data": {
            "text/plain": [
              "10.952902305305955"
            ]
          },
          "metadata": {},
          "execution_count": 54
        }
      ],
      "source": [
        "from scipy.stats import t\n",
        "N = 11\n",
        "alpha=0.1\n",
        "t2 = t.interval( 1-alpha/N, N-2)[1]**2\n",
        "t2"
      ]
    },
    {
      "cell_type": "code",
      "source": [
        "import math\n",
        "Grubb_value = ( (N-1) / math.sqrt(N) ) * math.sqrt(t2 / (N-2+t2))\n",
        "print(Grubb_value)"
      ],
      "metadata": {
        "colab": {
          "base_uri": "https://localhost:8080/"
        },
        "outputId": "ddb2d009-13db-449e-ced0-6c432b6a3fe6",
        "id": "uZbOYeidwBQQ"
      },
      "execution_count": 55,
      "outputs": [
        {
          "output_type": "stream",
          "name": "stdout",
          "text": [
            "2.2339077064682877\n"
          ]
        }
      ]
    },
    {
      "cell_type": "code",
      "source": [
        "z_score[z_score>=Grubb_value]"
      ],
      "metadata": {
        "colab": {
          "base_uri": "https://localhost:8080/"
        },
        "id": "S9J9Zt9swErp",
        "outputId": "b6aa4a04-001d-4e71-ee96-75cd9a17f3eb"
      },
      "execution_count": 56,
      "outputs": [
        {
          "output_type": "execute_result",
          "data": {
            "text/plain": [
              "5    2.527271\n",
              "Name: ID, dtype: float64"
            ]
          },
          "metadata": {},
          "execution_count": 56
        }
      ]
    },
    {
      "cell_type": "code",
      "source": [
        "employee_unjustified_absence.at[5]"
      ],
      "metadata": {
        "colab": {
          "base_uri": "https://localhost:8080/"
        },
        "id": "OxPLRJp7wFah",
        "outputId": "dc28987d-7e9d-4ca8-8eb7-e3450e5ee927"
      },
      "execution_count": 59,
      "outputs": [
        {
          "output_type": "execute_result",
          "data": {
            "text/plain": [
              "9"
            ]
          },
          "metadata": {},
          "execution_count": 59
        }
      ]
    }
  ]
}