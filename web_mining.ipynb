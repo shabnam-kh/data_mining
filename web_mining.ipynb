{
  "nbformat": 4,
  "nbformat_minor": 0,
  "metadata": {
    "colab": {
      "name": "ECS766_Ass4_210936704.ipynb",
      "provenance": [],
      "collapsed_sections": []
    },
    "kernelspec": {
      "name": "python3",
      "display_name": "Python 3"
    },
    "language_info": {
      "name": "python"
    }
  },
  "cells": [
    {
      "cell_type": "code",
      "execution_count": null,
      "metadata": {
        "id": "32km3e1ig16X"
      },
      "outputs": [],
      "source": [
        "# Install/upgrade wikipedia and statsmodels packages for the lab\n",
        "!pip install wikipedia\n",
        "!pip install statsmodels --upgrade"
      ]
    },
    {
      "cell_type": "markdown",
      "source": [
        "# **Part1**"
      ],
      "metadata": {
        "id": "9vVurgytHZDy"
      }
    },
    {
      "cell_type": "markdown",
      "source": [
        "# **Q1**"
      ],
      "metadata": {
        "id": "M-z6v6-yHCCz"
      }
    },
    {
      "cell_type": "markdown",
      "source": [
        "[2 marks] The list of the various MSc programmes offered by the School of EECS is provided at the following URL: http://eecs.qmul.ac.uk/postgraduate/programmes/. Scrape this website to create a DataFrame where each row corresponds to a programme, and contains the following columns:\n",
        "\"Programme\": the name of the programme;\n",
        "\"URL\": the link to the URL that contains information about this programme;\n",
        "\"Modules\": a list of the titles of all modules in the programme (compulsory or elective)."
      ],
      "metadata": {
        "id": "GQ9gxpPKVz7K"
      }
    },
    {
      "cell_type": "code",
      "execution_count": null,
      "metadata": {
        "id": "x5TXoEThGGDK"
      },
      "outputs": [],
      "source": [
        "import pandas as pd\n",
        "import numpy as np\n",
        "from urllib.request import urlopen\n",
        "from bs4 import BeautifulSoup\n",
        "import time"
      ]
    },
    {
      "cell_type": "code",
      "source": [
        "def scraper(url):\n",
        "  html = urlopen(url)\n",
        "  #print(html.status)\n",
        "  soup = BeautifulSoup(html, 'lxml')\n",
        "  #print(type(soup))\n",
        "  return soup"
      ],
      "metadata": {
        "id": "K_AkMTp0grzS"
      },
      "execution_count": null,
      "outputs": []
    },
    {
      "cell_type": "code",
      "source": [
        "url = \"http://eecs.qmul.ac.uk/postgraduate/programmes/\"\n",
        "soup = scraper(url)"
      ],
      "metadata": {
        "colab": {
          "base_uri": "https://localhost:8080/"
        },
        "id": "cMA-PtamVvbK",
        "outputId": "1840b2f2-5496-46f8-8847-a928aaa16efd"
      },
      "execution_count": null,
      "outputs": [
        {
          "output_type": "stream",
          "name": "stdout",
          "text": [
            "200\n",
            "<class 'bs4.BeautifulSoup'>\n"
          ]
        }
      ]
    },
    {
      "cell_type": "code",
      "source": [
        "course_list = []\n",
        "for x in soup.find_all(\"div\", class_= 'reveal-more__content'):\n",
        "  li_list = x.div.ul.find_all('li')\n",
        "  course_list.extend(li_list)\n",
        "print(len(course_list))\n",
        "\n",
        "\n",
        "\n"
      ],
      "metadata": {
        "colab": {
          "base_uri": "https://localhost:8080/"
        },
        "id": "1pYYKaJtWZZR",
        "outputId": "0534992b-c993-40b7-cd29-491e9a399b38"
      },
      "execution_count": null,
      "outputs": [
        {
          "output_type": "stream",
          "name": "stdout",
          "text": [
            "14\n"
          ]
        }
      ]
    },
    {
      "cell_type": "code",
      "source": [
        "df = pd.DataFrame(columns=['Programme', 'URL', 'Modules'])\n",
        "for course in course_list:\n",
        "  modules = []\n",
        "  title = course.get_text()\n",
        "  href = course.a.get('href')\n",
        "  course_soup = scraper(href)\n",
        "  #time.sleep(5)\n",
        "  module_objects = course_soup.find_all(\"div\", class_= 'disclosure-box__section')\n",
        "  for item in module_objects:\n",
        "    modules.append(item.button.h4.get_text())\n",
        "  df = df.append({'Programme': title, 'URL': href, 'Modules': modules}, ignore_index=True)"
      ],
      "metadata": {
        "id": "T4ZAbpWXgSNE"
      },
      "execution_count": null,
      "outputs": []
    },
    {
      "cell_type": "code",
      "source": [
        "print(df.shape)\n",
        "df.head()"
      ],
      "metadata": {
        "colab": {
          "base_uri": "https://localhost:8080/",
          "height": 337
        },
        "id": "YPgJwR4ummE4",
        "outputId": "790929b6-7835-4a63-c2d7-23177bc29753"
      },
      "execution_count": null,
      "outputs": [
        {
          "output_type": "stream",
          "name": "stdout",
          "text": [
            "(14, 3)\n"
          ]
        },
        {
          "output_type": "execute_result",
          "data": {
            "text/plain": [
              "                          Programme  \\\n",
              "0       MSc Artificial Intelligence   \n",
              "1              MSc Big Data Science   \n",
              "2                MSc Computer Games   \n",
              "3             MSc Computer Science    \n",
              "4  MSc Computer Science by Research   \n",
              "\n",
              "                                                 URL  \\\n",
              "0  https://www.qmul.ac.uk/postgraduate/taught/cou...   \n",
              "1  https://www.qmul.ac.uk/postgraduate/taught/cou...   \n",
              "2  https://www.qmul.ac.uk/postgraduate/taught/cou...   \n",
              "3  https://www.qmul.ac.uk/postgraduate/taught/cou...   \n",
              "4  https://www.qmul.ac.uk/postgraduate/taught/cou...   \n",
              "\n",
              "                                             Modules  \n",
              "0  [Ethics, Regulation and Law in Advanced Digita...  \n",
              "1  [Principles of Machine Learning, Neural Networ...  \n",
              "2  [Artificial Intelligence in Games, Multi-platf...  \n",
              "3  [Functional Programming, Security and Authenti...  \n",
              "4  [MSc by Research Project, Digital Media and So...  "
            ],
            "text/html": [
              "\n",
              "  <div id=\"df-0415790e-0c27-4a51-9f85-3e3b0c18edc7\">\n",
              "    <div class=\"colab-df-container\">\n",
              "      <div>\n",
              "<style scoped>\n",
              "    .dataframe tbody tr th:only-of-type {\n",
              "        vertical-align: middle;\n",
              "    }\n",
              "\n",
              "    .dataframe tbody tr th {\n",
              "        vertical-align: top;\n",
              "    }\n",
              "\n",
              "    .dataframe thead th {\n",
              "        text-align: right;\n",
              "    }\n",
              "</style>\n",
              "<table border=\"1\" class=\"dataframe\">\n",
              "  <thead>\n",
              "    <tr style=\"text-align: right;\">\n",
              "      <th></th>\n",
              "      <th>Programme</th>\n",
              "      <th>URL</th>\n",
              "      <th>Modules</th>\n",
              "    </tr>\n",
              "  </thead>\n",
              "  <tbody>\n",
              "    <tr>\n",
              "      <th>0</th>\n",
              "      <td>MSc Artificial Intelligence</td>\n",
              "      <td>https://www.qmul.ac.uk/postgraduate/taught/cou...</td>\n",
              "      <td>[Ethics, Regulation and Law in Advanced Digita...</td>\n",
              "    </tr>\n",
              "    <tr>\n",
              "      <th>1</th>\n",
              "      <td>MSc Big Data Science</td>\n",
              "      <td>https://www.qmul.ac.uk/postgraduate/taught/cou...</td>\n",
              "      <td>[Principles of Machine Learning, Neural Networ...</td>\n",
              "    </tr>\n",
              "    <tr>\n",
              "      <th>2</th>\n",
              "      <td>MSc Computer Games</td>\n",
              "      <td>https://www.qmul.ac.uk/postgraduate/taught/cou...</td>\n",
              "      <td>[Artificial Intelligence in Games, Multi-platf...</td>\n",
              "    </tr>\n",
              "    <tr>\n",
              "      <th>3</th>\n",
              "      <td>MSc Computer Science</td>\n",
              "      <td>https://www.qmul.ac.uk/postgraduate/taught/cou...</td>\n",
              "      <td>[Functional Programming, Security and Authenti...</td>\n",
              "    </tr>\n",
              "    <tr>\n",
              "      <th>4</th>\n",
              "      <td>MSc Computer Science by Research</td>\n",
              "      <td>https://www.qmul.ac.uk/postgraduate/taught/cou...</td>\n",
              "      <td>[MSc by Research Project, Digital Media and So...</td>\n",
              "    </tr>\n",
              "  </tbody>\n",
              "</table>\n",
              "</div>\n",
              "      <button class=\"colab-df-convert\" onclick=\"convertToInteractive('df-0415790e-0c27-4a51-9f85-3e3b0c18edc7')\"\n",
              "              title=\"Convert this dataframe to an interactive table.\"\n",
              "              style=\"display:none;\">\n",
              "        \n",
              "  <svg xmlns=\"http://www.w3.org/2000/svg\" height=\"24px\"viewBox=\"0 0 24 24\"\n",
              "       width=\"24px\">\n",
              "    <path d=\"M0 0h24v24H0V0z\" fill=\"none\"/>\n",
              "    <path d=\"M18.56 5.44l.94 2.06.94-2.06 2.06-.94-2.06-.94-.94-2.06-.94 2.06-2.06.94zm-11 1L8.5 8.5l.94-2.06 2.06-.94-2.06-.94L8.5 2.5l-.94 2.06-2.06.94zm10 10l.94 2.06.94-2.06 2.06-.94-2.06-.94-.94-2.06-.94 2.06-2.06.94z\"/><path d=\"M17.41 7.96l-1.37-1.37c-.4-.4-.92-.59-1.43-.59-.52 0-1.04.2-1.43.59L10.3 9.45l-7.72 7.72c-.78.78-.78 2.05 0 2.83L4 21.41c.39.39.9.59 1.41.59.51 0 1.02-.2 1.41-.59l7.78-7.78 2.81-2.81c.8-.78.8-2.07 0-2.86zM5.41 20L4 18.59l7.72-7.72 1.47 1.35L5.41 20z\"/>\n",
              "  </svg>\n",
              "      </button>\n",
              "      \n",
              "  <style>\n",
              "    .colab-df-container {\n",
              "      display:flex;\n",
              "      flex-wrap:wrap;\n",
              "      gap: 12px;\n",
              "    }\n",
              "\n",
              "    .colab-df-convert {\n",
              "      background-color: #E8F0FE;\n",
              "      border: none;\n",
              "      border-radius: 50%;\n",
              "      cursor: pointer;\n",
              "      display: none;\n",
              "      fill: #1967D2;\n",
              "      height: 32px;\n",
              "      padding: 0 0 0 0;\n",
              "      width: 32px;\n",
              "    }\n",
              "\n",
              "    .colab-df-convert:hover {\n",
              "      background-color: #E2EBFA;\n",
              "      box-shadow: 0px 1px 2px rgba(60, 64, 67, 0.3), 0px 1px 3px 1px rgba(60, 64, 67, 0.15);\n",
              "      fill: #174EA6;\n",
              "    }\n",
              "\n",
              "    [theme=dark] .colab-df-convert {\n",
              "      background-color: #3B4455;\n",
              "      fill: #D2E3FC;\n",
              "    }\n",
              "\n",
              "    [theme=dark] .colab-df-convert:hover {\n",
              "      background-color: #434B5C;\n",
              "      box-shadow: 0px 1px 3px 1px rgba(0, 0, 0, 0.15);\n",
              "      filter: drop-shadow(0px 1px 2px rgba(0, 0, 0, 0.3));\n",
              "      fill: #FFFFFF;\n",
              "    }\n",
              "  </style>\n",
              "\n",
              "      <script>\n",
              "        const buttonEl =\n",
              "          document.querySelector('#df-0415790e-0c27-4a51-9f85-3e3b0c18edc7 button.colab-df-convert');\n",
              "        buttonEl.style.display =\n",
              "          google.colab.kernel.accessAllowed ? 'block' : 'none';\n",
              "\n",
              "        async function convertToInteractive(key) {\n",
              "          const element = document.querySelector('#df-0415790e-0c27-4a51-9f85-3e3b0c18edc7');\n",
              "          const dataTable =\n",
              "            await google.colab.kernel.invokeFunction('convertToInteractive',\n",
              "                                                     [key], {});\n",
              "          if (!dataTable) return;\n",
              "\n",
              "          const docLinkHtml = 'Like what you see? Visit the ' +\n",
              "            '<a target=\"_blank\" href=https://colab.research.google.com/notebooks/data_table.ipynb>data table notebook</a>'\n",
              "            + ' to learn more about interactive tables.';\n",
              "          element.innerHTML = '';\n",
              "          dataTable['output_type'] = 'display_data';\n",
              "          await google.colab.output.renderOutput(dataTable, element);\n",
              "          const docLink = document.createElement('div');\n",
              "          docLink.innerHTML = docLinkHtml;\n",
              "          element.appendChild(docLink);\n",
              "        }\n",
              "      </script>\n",
              "    </div>\n",
              "  </div>\n",
              "  "
            ]
          },
          "metadata": {},
          "execution_count": 23
        }
      ]
    },
    {
      "cell_type": "markdown",
      "source": [
        "# **Q3**"
      ],
      "metadata": {
        "id": "ODDYkqzkHOzs"
      }
    },
    {
      "cell_type": "markdown",
      "source": [
        "[2 marks] Write an implementation of the PageRank algorithm. You must define a function that takes two parameters:\n",
        "A: numpy array containing the adjacency matrix of the input graph. You may assume there are no dangling nodes;\n",
        "alpha: the teleportation probability. Use your implementation to derive the PageRank vector for the graph from the previous exercise, setting  𝛼=0.1 .\n",
        "The output should be the PageRank vector, in numpy array format."
      ],
      "metadata": {
        "id": "v90ue5uiuj8A"
      }
    },
    {
      "cell_type": "code",
      "source": [
        "import numpy as np\n",
        "from scipy.sparse import csc_matrix\n",
        "\n",
        "def customPageRank(G, alpha = .1, maxerr = .0001):\n",
        "\n",
        "    n = G.shape[0]\n",
        "\n",
        "    A = csc_matrix(G,dtype=np.float)\n",
        "    rsums = np.array(A.sum(1))[:,0]\n",
        "    ri, ci = A.nonzero()\n",
        "    A.data /= rsums[ri]\n",
        "\n",
        "    sink = rsums==0\n",
        "\n",
        "    ro, r = np.zeros(n), np.ones(n)\n",
        "    while np.sum(np.abs(r-ro)) > maxerr:\n",
        "        ro = r.copy()\n",
        "\n",
        "        for i in range(0,n):\n",
        "\n",
        "            Ai = np.array(A[:,i].todense())[:,0]\n",
        "\n",
        "            Di = sink / float(n)\n",
        "\n",
        "            Ei = np.ones(n) / float(n)\n",
        "\n",
        "            r[i] = ro.dot( Ai*alpha + Di*alpha + Ei*(1-alpha) )\n",
        "\n",
        "    return r/float(sum(r))"
      ],
      "metadata": {
        "id": "mMAJCmcU4qdZ"
      },
      "execution_count": null,
      "outputs": []
    },
    {
      "cell_type": "code",
      "source": [
        "G = np.array([[0,1,0,1],\n",
        "              [0,0,1,0],\n",
        "              [0,0,0,1],\n",
        "              [1,0,0,0]])\n",
        "\n",
        "print(customPageRank(G))"
      ],
      "metadata": {
        "colab": {
          "base_uri": "https://localhost:8080/"
        },
        "id": "y7k-x7UD2QUJ",
        "outputId": "ddfd0279-9877-4e25-f0c7-2673cbcb203b"
      },
      "execution_count": null,
      "outputs": [
        {
          "output_type": "stream",
          "name": "stderr",
          "text": [
            "/usr/local/lib/python3.7/dist-packages/ipykernel_launcher.py:8: DeprecationWarning: `np.float` is a deprecated alias for the builtin `float`. To silence this warning, use `float` by itself. Doing this will not modify any behavior and is safe. If you specifically wanted the numpy scalar type, use `np.float64` here.\n",
            "Deprecated in NumPy 1.20; for more details and guidance: https://numpy.org/devdocs/release/1.20.0-notes.html#deprecations\n",
            "  \n"
          ]
        },
        {
          "output_type": "stream",
          "name": "stdout",
          "text": [
            "[0.23913629 0.23737433 0.2491757  0.27431368]\n"
          ]
        }
      ]
    },
    {
      "cell_type": "markdown",
      "source": [
        "# **Part 2**"
      ],
      "metadata": {
        "id": "1pb1luNC9-J3"
      }
    },
    {
      "cell_type": "markdown",
      "source": [
        "2)[0.5 marks] Consider the following timeseries 𝑦={0.1,0.15,0.2,0.2,0.3,0.4,0.25,0.6,0.5}. Perform timeseries binning using 𝑘=3 values per bin, and show the resulting timeseries after binning."
      ],
      "metadata": {
        "id": "HMs34lxMWcvn"
      }
    },
    {
      "cell_type": "code",
      "source": [
        "!pip install pyinform"
      ],
      "metadata": {
        "colab": {
          "base_uri": "https://localhost:8080/"
        },
        "outputId": "d8797851-5bd4-4391-a738-7ef72bd26359",
        "id": "dKCdFz7DWXuK"
      },
      "execution_count": null,
      "outputs": [
        {
          "output_type": "stream",
          "name": "stdout",
          "text": [
            "Looking in indexes: https://pypi.org/simple, https://us-python.pkg.dev/colab-wheels/public/simple/\n",
            "Collecting pyinform\n",
            "  Downloading pyinform-0.2.0-py3-none-any.whl (131 kB)\n",
            "\u001b[K     |████████████████████████████████| 131 kB 7.6 MB/s \n",
            "\u001b[?25hRequirement already satisfied: numpy in /usr/local/lib/python3.7/dist-packages (from pyinform) (1.21.6)\n",
            "Installing collected packages: pyinform\n",
            "Successfully installed pyinform-0.2.0\n"
          ]
        }
      ]
    },
    {
      "cell_type": "code",
      "source": [
        "from pyinform import utils\n",
        "import numpy as np\n",
        "time_np = np.array([0.1,0.15,0.2,0.2,0.3,0.4,0.25,0.6,0.5])\n",
        "utils.bin_series(time_np, b=3)"
      ],
      "metadata": {
        "colab": {
          "base_uri": "https://localhost:8080/"
        },
        "outputId": "50b691dc-13fe-4ac6-de13-253ab6ddc796",
        "id": "KFXAm2XPWUsI"
      },
      "execution_count": null,
      "outputs": [
        {
          "output_type": "execute_result",
          "data": {
            "text/plain": [
              "(array([0, 0, 0, 0, 1, 1, 0, 2, 2], dtype=int32), 3, 0.16666666666666666)"
            ]
          },
          "metadata": {},
          "execution_count": 8
        }
      ]
    },
    {
      "cell_type": "markdown",
      "source": [
        "# **Q3**"
      ],
      "metadata": {
        "id": "CopvHzB2GZQq"
      }
    },
    {
      "cell_type": "markdown",
      "source": [
        "[1 mark] Load CSV file \"timeseries.csv\", which contains a univariate timeseries. Once loaded, convert the timeseries into a numpy array and use the numpy flatten() function to ensure that the loaded timeseries is one-dimensional. Compute the Discrete Fourier Transform (DFT) of the timeseries, and display plots for both the original timeseries and the magnitude of its DFT. How many predominant frequency components does the timeseries have?"
      ],
      "metadata": {
        "id": "_u7i58f6-Blt"
      }
    },
    {
      "cell_type": "code",
      "execution_count": null,
      "metadata": {
        "id": "k8AtMKyeg16h",
        "colab": {
          "base_uri": "https://localhost:8080/"
        },
        "outputId": "738f384b-6272-4276-a753-caf0d6883691"
      },
      "outputs": [
        {
          "output_type": "execute_result",
          "data": {
            "text/plain": [
              "(1279,)"
            ]
          },
          "metadata": {},
          "execution_count": 22
        }
      ],
      "source": [
        "from pandas import read_csv\n",
        "import matplotlib.pyplot as plt\n",
        "import numpy as np\n",
        "\n",
        "series = read_csv('timeseries.csv')\n",
        "series_numpy = np.array(series)\n",
        "series_flatten = series_numpy.flatten()\n",
        "series_flatten.shape"
      ]
    },
    {
      "cell_type": "code",
      "source": [
        "# Plot\n",
        "plt.figure(figsize=(10, 4))\n",
        "plt.title('$x$')\n",
        "plt.plot(series_flatten, 'k')\n",
        "plt.xlabel('Time (index $n$)')"
      ],
      "metadata": {
        "colab": {
          "base_uri": "https://localhost:8080/",
          "height": 316
        },
        "id": "V3Pf457AENcy",
        "outputId": "34cf2377-d969-4ee7-e916-0ccb81300f56"
      },
      "execution_count": null,
      "outputs": [
        {
          "output_type": "execute_result",
          "data": {
            "text/plain": [
              "Text(0.5, 0, 'Time (index $n$)')"
            ]
          },
          "metadata": {},
          "execution_count": 25
        },
        {
          "output_type": "display_data",
          "data": {
            "text/plain": [
              "<Figure size 720x288 with 1 Axes>"
            ],
            "image/png": "[encoded data removed]"
          },
          "metadata": {
            "needs_background": "light"
          }
        }
      ]
    },
    {
      "cell_type": "code",
      "execution_count": null,
      "metadata": {
        "id": "iH-UwmNKg16p",
        "colab": {
          "base_uri": "https://localhost:8080/",
          "height": 297
        },
        "outputId": "c0468612-4b7c-4855-e026-56dc6899163b"
      },
      "outputs": [
        {
          "output_type": "display_data",
          "data": {
            "text/plain": [
              "<Figure size 720x288 with 1 Axes>"
            ],
            "image/png": "[encoded data removed]"
          },
          "metadata": {
            "needs_background": "light"
          }
        }
      ],
      "source": [
        "# numpy implementation of FFT\n",
        "Xfft = np.fft.fft(series_flatten)\n",
        "\n",
        "# Plot\n",
        "plt.figure(figsize=(10, 4))\n",
        "plt.title('$|X|$ - magnitude of DFT')\n",
        "plt.plot(np.abs(Xfft), 'k')\n",
        "plt.xlabel('Frequency (index $k$)')\n",
        "plt.tight_layout()"
      ]
    },
    {
      "cell_type": "markdown",
      "source": [
        "# **Q4**"
      ],
      "metadata": {
        "id": "BtFRdVPnGMHW"
      }
    },
    {
      "cell_type": "markdown",
      "source": [
        "[0.75 marks] Using the daily births dataset from this lab tutorial, smooth the timeseries using trailing moving average smoothing and a window size that corresponds to one week; then replace any NaN values with zeros. Perform timeseries forecasting using the smoothed dataset in order to predict daily births for the first 5 days of 1960, using the models below. Show your forecasting results.\n",
        "\n",
        "AR model with  𝑝=2 \n",
        "ARMA model with  𝑝=2  and  𝑞=2"
      ],
      "metadata": {
        "id": "EjvYfUWOH2YG"
      }
    },
    {
      "cell_type": "code",
      "execution_count": null,
      "metadata": {
        "id": "8shGgwgoICGR"
      },
      "outputs": [],
      "source": [
        "from pandas import read_csv\n",
        "import matplotlib.pyplot as plt\n",
        "\n",
        "series = read_csv('births.csv', header=0, index_col=0)"
      ]
    },
    {
      "cell_type": "code",
      "execution_count": null,
      "metadata": {
        "id": "KQWvVlVZg16h"
      },
      "outputs": [],
      "source": [
        "# Perform trailing moving average smoothing\n",
        "rolling = series.rolling(window=7) # using a window of 3 samples: t, t-1, t-2\n",
        "rolling_mean = rolling.mean()"
      ]
    },
    {
      "cell_type": "code",
      "source": [
        "print(rolling_mean.isna().sum())"
      ],
      "metadata": {
        "colab": {
          "base_uri": "https://localhost:8080/"
        },
        "id": "tvptsldGJ4OO",
        "outputId": "432d70b6-1b16-4300-af3d-f64148683267"
      },
      "execution_count": null,
      "outputs": [
        {
          "output_type": "stream",
          "name": "stdout",
          "text": [
            "Births    6\n",
            "dtype: int64\n"
          ]
        }
      ]
    },
    {
      "cell_type": "code",
      "source": [
        "import numpy as np\n",
        "clean_rolling_mean = rolling_mean.replace(np.NaN,0)"
      ],
      "metadata": {
        "id": "eGvfJfKOJ-gB"
      },
      "execution_count": null,
      "outputs": []
    },
    {
      "cell_type": "code",
      "source": [
        "print(clean_rolling_mean.isna().sum())"
      ],
      "metadata": {
        "colab": {
          "base_uri": "https://localhost:8080/"
        },
        "outputId": "13ad983a-a44a-4081-b468-8f4e87ea0ffd",
        "id": "fSpbUC79K3ZD"
      },
      "execution_count": null,
      "outputs": [
        {
          "output_type": "stream",
          "name": "stdout",
          "text": [
            "Births    0\n",
            "dtype: int64\n"
          ]
        }
      ]
    },
    {
      "cell_type": "markdown",
      "source": [
        "AR model with 𝑝=2 "
      ],
      "metadata": {
        "id": "1D49N2wTL0Wy"
      }
    },
    {
      "cell_type": "code",
      "execution_count": null,
      "metadata": {
        "id": "bmtnJ3yzg16j",
        "colab": {
          "base_uri": "https://localhost:8080/"
        },
        "outputId": "d045b477-6419-40b6-d4d3-790b7dc1076e"
      },
      "outputs": [
        {
          "output_type": "stream",
          "name": "stdout",
          "text": [
            "1960-01-01    45.380177\n",
            "1960-01-02    44.960852\n",
            "1960-01-03    44.590676\n",
            "1960-01-04    44.271699\n",
            "1960-01-05    43.997395\n",
            "Freq: D, dtype: float64\n"
          ]
        },
        {
          "output_type": "stream",
          "name": "stderr",
          "text": [
            "/usr/local/lib/python3.7/dist-packages/statsmodels/tsa/base/tsa_model.py:471: ValueWarning: No frequency information was provided, so inferred frequency D will be used.\n",
            "  self._init_dates(dates, freq)\n",
            "/usr/local/lib/python3.7/dist-packages/statsmodels/tsa/deterministic.py:302: UserWarning: Only PeriodIndexes, DatetimeIndexes with a frequency set, RangesIndexes, and Index with a unit increment support extending. The index is set will contain the position relative to the data length.\n",
            "  fcast_index = self._extend_index(index, steps, forecast_index)\n"
          ]
        }
      ],
      "source": [
        "# Initialise\n",
        "from statsmodels.tsa.ar_model import AutoReg\n",
        "\n",
        "data = clean_rolling_mean\n",
        "# Fit Autoregressive model\n",
        "model = AutoReg(data, lags=2,old_names=False) # \"lags\" indicates the model order\n",
        "model_fit = model.fit()\n",
        "\n",
        "# Make prediction\n",
        "last_day = len(data)\n",
        "yhat = model_fit.predict(last_day, last_day+4) # arguments denote which dataset indices to predict\n",
        "print(yhat)"
      ]
    },
    {
      "cell_type": "markdown",
      "source": [
        "ARMA model with 𝑝=2 and 𝑞=2"
      ],
      "metadata": {
        "id": "5HoJssqC8GqM"
      }
    },
    {
      "cell_type": "code",
      "execution_count": null,
      "metadata": {
        "id": "eYisPMhFg16l",
        "colab": {
          "base_uri": "https://localhost:8080/"
        },
        "outputId": "b3a6a7b8-c68e-4191-f7db-7094e86d0a1a"
      },
      "outputs": [
        {
          "output_type": "stream",
          "name": "stderr",
          "text": [
            "/usr/local/lib/python3.7/dist-packages/statsmodels/tsa/base/tsa_model.py:471: ValueWarning: No frequency information was provided, so inferred frequency D will be used.\n",
            "  self._init_dates(dates, freq)\n",
            "/usr/local/lib/python3.7/dist-packages/statsmodels/tsa/base/tsa_model.py:471: ValueWarning: No frequency information was provided, so inferred frequency D will be used.\n",
            "  self._init_dates(dates, freq)\n",
            "/usr/local/lib/python3.7/dist-packages/statsmodels/tsa/base/tsa_model.py:471: ValueWarning: No frequency information was provided, so inferred frequency D will be used.\n",
            "  self._init_dates(dates, freq)\n"
          ]
        },
        {
          "output_type": "stream",
          "name": "stdout",
          "text": [
            "1960-01-01    45.810250\n",
            "1960-01-02    45.818771\n",
            "1960-01-03    45.728098\n",
            "1960-01-04    45.564024\n",
            "1960-01-05    45.347314\n",
            "Freq: D, Name: predicted_mean, dtype: float64\n"
          ]
        }
      ],
      "source": [
        "from statsmodels.tsa.arima.model import ARIMA\n",
        "\n",
        "data2 = clean_rolling_mean\n",
        "\n",
        "# Fit ARMA model\n",
        "model = ARIMA(data2, order=(2, 0, 2)) # p=2, q=2\n",
        "model_fit = model.fit()\n",
        "\n",
        "# Make prediction\n",
        "last_day = len(data2)\n",
        "yhat = model_fit.predict(last_day, last_day+4) # arguments denote which dataset indices to predict\n",
        "print(yhat)"
      ]
    },
    {
      "cell_type": "markdown",
      "source": [
        "# **Q5**"
      ],
      "metadata": {
        "id": "e6CxM34lGDm7"
      }
    },
    {
      "cell_type": "markdown",
      "source": [
        "[0.75 marks] Using a similar process used in section 1 of this lab notebook, perform document clustering using k-means on the following wikipedia articles: anomaly detection, cluster analysis, k-means clustering, data mining, data warehouse, association rule learning. As with section 1, use the elbow metric to find an appropriate number of clusters. Discuss and display the document clustering results."
      ],
      "metadata": {
        "id": "Ny136u1N-CYU"
      }
    },
    {
      "cell_type": "code",
      "execution_count": null,
      "metadata": {
        "id": "4p9egLNxg16Z",
        "colab": {
          "base_uri": "https://localhost:8080/"
        },
        "outputId": "017d1fff-2d24-43fb-d7e3-1364186c796e"
      },
      "outputs": [
        {
          "output_type": "stream",
          "name": "stdout",
          "text": [
            "loading content:  anomaly detection\n",
            "loading content:  cluster analysis\n",
            "loading content:  k-means clustering\n",
            "loading content:  data mining\n",
            "loading content:  data warehouse\n",
            "loading content:  association rule learning\n"
          ]
        }
      ],
      "source": [
        "import pandas as pd\n",
        "import wikipedia\n",
        "\n",
        "articles=['anomaly detection', 'cluster analysis', 'k-means clustering', 'data mining', 'data warehouse', 'association rule learning']\n",
        "wiki_lst=[]\n",
        "title=[]\n",
        "\n",
        "# Load wikipedia articles\n",
        "for article in articles:\n",
        "   print(\"loading content: \",article)\n",
        "   wiki_lst.append(wikipedia.page(article,auto_suggest=False).content)\n",
        "   title.append(article)"
      ]
    },
    {
      "cell_type": "code",
      "execution_count": null,
      "metadata": {
        "id": "NFIDEH6Mg16d",
        "colab": {
          "base_uri": "https://localhost:8080/"
        },
        "outputId": "9fc4e802-fa3b-4b4c-afd7-c76c0de4ce55"
      },
      "outputs": [
        {
          "output_type": "stream",
          "name": "stdout",
          "text": [
            "(6, 3533)\n"
          ]
        }
      ],
      "source": [
        "from sklearn.feature_extraction.text import TfidfVectorizer\n",
        "\n",
        "vectorizer = TfidfVectorizer(stop_words={'english'})\n",
        "X = vectorizer.fit_transform(wiki_lst) # Create tf-idf feature of the wikipedia dataset\n",
        "\n",
        "print(X.shape) # Print dimensions of tf-idf feature"
      ]
    },
    {
      "cell_type": "code",
      "execution_count": null,
      "metadata": {
        "id": "mt-DuXjcg16e",
        "colab": {
          "base_uri": "https://localhost:8080/",
          "height": 295
        },
        "outputId": "f9227a37-c0a6-48c8-e8dc-497095e9e70f"
      },
      "outputs": [
        {
          "output_type": "display_data",
          "data": {
            "text/plain": [
              "<Figure size 432x288 with 1 Axes>"
            ],
            "image/png": "[encoded data removed]"
          },
          "metadata": {
            "needs_background": "light"
          }
        }
      ],
      "source": [
        "import matplotlib.pyplot as plt\n",
        "from sklearn.cluster import KMeans\n",
        "\n",
        "Sum_of_squared_distances = []\n",
        "K = range(2,7)\n",
        "\n",
        "for k in K:\n",
        "    km = KMeans(n_clusters=k, max_iter=200, n_init=10)\n",
        "    km = km.fit(X)\n",
        "    Sum_of_squared_distances.append(km.inertia_)\n",
        "\n",
        "plt.plot(K, Sum_of_squared_distances, 'bx-')\n",
        "plt.xlabel('k')\n",
        "plt.ylabel('Sum_of_squared_distances')\n",
        "plt.title('Elbow Method')\n",
        "plt.show()"
      ]
    },
    {
      "cell_type": "code",
      "execution_count": null,
      "metadata": {
        "id": "eAxD-R4Bg16f",
        "colab": {
          "base_uri": "https://localhost:8080/"
        },
        "outputId": "b6ec5e4d-866e-41b5-a515-3429b58c4369"
      },
      "outputs": [
        {
          "output_type": "stream",
          "name": "stdout",
          "text": [
            "                       title  cluster\n",
            "0          anomaly detection        0\n",
            "1           cluster analysis        1\n",
            "2         k-means clustering        1\n",
            "5  association rule learning        1\n",
            "3                data mining        2\n",
            "4             data warehouse        2\n"
          ]
        }
      ],
      "source": [
        "# Fit k-means model with k=3\n",
        "true_k = 3\n",
        "model = KMeans(n_clusters=true_k, init='k-means++', max_iter=200, n_init=10)\n",
        "model.fit(X)\n",
        "\n",
        "# Print list of documents and associated clusters\n",
        "labels=model.labels_\n",
        "wiki_cl=pd.DataFrame(list(zip(title,labels)),columns=['title','cluster'])\n",
        "print(wiki_cl.sort_values(by=['cluster']))"
      ]
    }
  ]
}