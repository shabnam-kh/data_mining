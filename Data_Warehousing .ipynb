{
  "nbformat": 4,
  "nbformat_minor": 0,
  "metadata": {
    "colab": {
      "name": "Assignment2-Shabnam-Khodadadi-210936704_part1.ipynb",
      "provenance": [],
      "collapsed_sections": []
    },
    "kernelspec": {
      "name": "python3",
      "display_name": "Python 3"
    },
    "language_info": {
      "name": "python"
    }
  },
  "cells": [
    {
      "cell_type": "markdown",
      "source": [
        ""
      ],
      "metadata": {
        "id": "6O-2NzyeYdqb"
      }
    },
    {
      "cell_type": "markdown",
      "metadata": {
        "id": "JigycY8AIMJq"
      },
      "source": [
        "## <font color = 'maroon'>Assignment 2, part 1 of 2</font>\n",
        "\n",
        "Questions 1 is a pen-and-paper exercise; questions 2-3 are coding exercises.\n",
        "\n",
        "Please **show your work** - i.e., show and explain your code/math, and write your reasoning.\n",
        "\n",
        "1. A data warehouse for a music streaming company consists of the dimensions song, user, time (time and date of when the user listened to a song), and a measure called fee (fee paid by the streaming company to the artist every time a user listens to that song). \n",
        "    1. **[1 mark]** Draw a schema diagram for the above data warehouse using a star schema.\n",
        "    2. **[0.5 marks]** Starting with the base cuboid [time, user, song], what specific OLAP operations should be performed in order to list the total fee collected for a given song for a given month of a given year (e.g. October 2021)?\n",
        "    3. **[0.5 marks]** Assume that the time dimension has 3 levels: day, month, year; and that the song and user dimensions both have 1 level (not including the virtual level 'all'). How many cuboids will this cube contain (including the base and apex cuboids)?\n",
        "\n",
        "1. **[1 mark]** Using the same CSV file and data cube in the above lab tutorial, modify the \"tutorial_model.json\" file to include aggregate measures for the minimum and maximum amount in the data cube. Using these implemented aggregate measures, produce the values for the minimum and maximum amount in the data per year. Make sure to show your work in the PDF report. You can read the [Cubes package documentation](https://readthedocs.org/projects/cubes/downloads/pdf/latest/) for assistance in this task.\n",
        "\n",
        "1. Consider the CSV file \"country-income-large.csv\":\n",
        "   1. **[1 marks]** Load the CSV file using Cubes, create a JSON file for the data cube model, and create a data cube for the data. Use as dimensions the region, age, and online shopper fields. Use as measure the income. Define aggregate functions in the data cube model for the total, average, minimum, and maximum income. In your PDF report, show the relevant scripts and files you have created.\n",
        "   2. **[1 mark]** Using the created data cube and data cube model, produce aggregate results for: the whole data cube; results per region; results per online shopping activity; and results for all people aged between 30 and 50.\n",
        "  "
      ]
    },
    {
      "cell_type": "code",
      "execution_count": null,
      "metadata": {
        "id": "ENnKFadUVSbM"
      },
      "outputs": [],
      "source": [
        "# If you are using Google Colab, you would need to run the lines below to install Cubes. \n",
        "# This might also be the case if you are running the notebook locally.\n",
        "# You can comment the below line if you are running a local python installation with Cubes installed.\n",
        "# The below line also installs a particular version of the sqlalchemy package needed to use Cubes.\n",
        "\n",
        "#!pip install cubes\n",
        "#!pip install -Iv sqlalchemy==1.3.9\n",
        "\n",
        "from sqlalchemy import create_engine\n",
        "from cubes.tutorial.sql import create_table_from_csv"
      ]
    },
    {
      "cell_type": "code",
      "execution_count": null,
      "metadata": {
        "id": "IVZ2cz7XIMJg"
      },
      "outputs": [],
      "source": [
        "engine = create_engine('sqlite:///data.sqlite')\n",
        "create_table_from_csv(engine,\n",
        "                      \"IBRD_Balance_Sheet__FY2010.csv\",\n",
        "                      table_name=\"ibrd_balance\",\n",
        "                      fields=[\n",
        "                          (\"category\", \"string\"),\n",
        "                          (\"category_label\", \"string\"),\n",
        "                          (\"subcategory\", \"string\"),\n",
        "                          (\"subcategory_label\", \"string\"),\n",
        "                          (\"line_item\", \"string\"),\n",
        "                          (\"year\", \"integer\"),\n",
        "                          (\"amount\", \"integer\")],\n",
        "                      create_id=True\n",
        "                     )"
      ]
    },
    {
      "cell_type": "code",
      "execution_count": null,
      "metadata": {
        "id": "2F_Qw-y8VSbO"
      },
      "outputs": [],
      "source": [
        "engine = create_engine('sqlite:///data.sqlite')\n",
        "create_table_from_csv(engine,\n",
        "                      \"country-income-large.csv\",\n",
        "                      table_name=\"country_income\",\n",
        "                      fields=[\n",
        "                          (\"region\", \"string\"),\n",
        "                          (\"age\", \"integer\"),\n",
        "                          (\"income\", \"integer\"),\n",
        "                          (\"online_shopper\", \"string\"),\n",
        "                      ],\n",
        "                      create_id=True\n",
        "                     )"
      ]
    },
    {
      "cell_type": "code",
      "execution_count": null,
      "metadata": {
        "id": "PPz_pPZuVSbP"
      },
      "outputs": [],
      "source": [
        "from cubes import Workspace\n",
        "\n",
        "workspace = Workspace()\n",
        "workspace.register_default_store(\"sql\", url=\"sqlite:///data.sqlite\")"
      ]
    },
    {
      "cell_type": "code",
      "execution_count": null,
      "metadata": {
        "colab": {
          "base_uri": "https://localhost:8080/"
        },
        "id": "fjd1tfR-VSbQ",
        "outputId": "fd00110b-d815-48ae-e55a-0cd96d5b6705"
      },
      "outputs": [
        {
          "output_type": "execute_result",
          "data": {
            "text/plain": [
              "[]"
            ]
          },
          "metadata": {},
          "execution_count": 5
        }
      ],
      "source": [
        "workspace.list_cubes()"
      ]
    },
    {
      "cell_type": "markdown",
      "source": [
        "[1 mark] Using the same CSV file and data cube in the above lab tutorial, modify the \"tutorial_model.json\" file to include aggregate measures for the minimum and maximum amount in the data cube. Using these implemented aggregate measures, produce the values for the minimum and maximum amount in the data per year. Make sure to show your work in the PDF report. You can read the Cubes package documentation for assistance in this task.\n",
        "\n"
      ],
      "metadata": {
        "id": "WVU8PkwXJa_q"
      }
    },
    {
      "cell_type": "code",
      "execution_count": null,
      "metadata": {
        "id": "MgSZ5XsYIMJi"
      },
      "outputs": [],
      "source": [
        "workspace.import_model(\"tutorial_model.json\")"
      ]
    },
    {
      "cell_type": "code",
      "execution_count": null,
      "metadata": {
        "id": "ZxmxjAbyIMJj"
      },
      "outputs": [],
      "source": [
        "cube = workspace.cube(\"ibrd_balance\")"
      ]
    },
    {
      "cell_type": "code",
      "execution_count": null,
      "metadata": {
        "id": "xIla44_-IMJj"
      },
      "outputs": [],
      "source": [
        "browser = workspace.browser(cube)"
      ]
    },
    {
      "cell_type": "code",
      "execution_count": null,
      "metadata": {
        "colab": {
          "base_uri": "https://localhost:8080/"
        },
        "id": "TruzYNioIMJl",
        "outputId": "d47c23aa-275f-4bd9-d5a1-fb81740f79ec"
      },
      "outputs": [
        {
          "output_type": "stream",
          "name": "stdout",
          "text": [
            "{'year': 2009, 'amount_sum': 550840, 'record_count': 31, 'amount_min': -1683, 'amount_max': 110040}\n",
            "{'year': 2010, 'amount_sum': 566020, 'record_count': 31, 'amount_min': -3043, 'amount_max': 128577}\n"
          ]
        }
      ],
      "source": [
        "result = browser.aggregate(drilldown=[\"year\"])\n",
        "for record in result:\n",
        "    print(record)"
      ]
    },
    {
      "cell_type": "markdown",
      "source": [
        "Consider the CSV file \"country-income-large.csv\":\n",
        "\n",
        "[1 marks] Load the CSV file using Cubes, create a JSON file for the data cube model, and create a data cube for the data. Use as dimensions the region, age, and online shopper fields. Use as measure the income. Define aggregate functions in the data cube model for the total, average, minimum, and maximum income. In your PDF report, show the relevant scripts and files you have created.\n",
        "\n",
        "[1 mark] Using the created data cube and data cube model, produce aggregate results for: the whole data cube; results per region; results per online shopping activity; and results for all people aged between 30 and 50."
      ],
      "metadata": {
        "id": "_2MQFxRcJlKO"
      }
    },
    {
      "cell_type": "code",
      "execution_count": null,
      "metadata": {
        "id": "EFRnN9PFVSbR"
      },
      "outputs": [],
      "source": [
        "workspace.import_model(\"country_income.json\")"
      ]
    },
    {
      "cell_type": "code",
      "execution_count": null,
      "metadata": {
        "id": "KiixgvZqVSbR"
      },
      "outputs": [],
      "source": [
        "income_cube = workspace.cube(\"country_income\")"
      ]
    },
    {
      "cell_type": "code",
      "execution_count": null,
      "metadata": {
        "id": "IGSNfC6mVSbS"
      },
      "outputs": [],
      "source": [
        "income_browser = workspace.browser(income_cube)"
      ]
    },
    {
      "cell_type": "code",
      "execution_count": null,
      "metadata": {
        "colab": {
          "base_uri": "https://localhost:8080/"
        },
        "id": "cAE0CgA4VSbS",
        "outputId": "2b9736b5-d257-49b9-d08b-ec906ea7d4cc"
      },
      "outputs": [
        {
          "output_type": "stream",
          "name": "stdout",
          "text": [
            "{'income_sum': 5159200, 'income_avg': 85986.66666666667, 'income_min': 31000, 'income_max': 143000}\n"
          ]
        }
      ],
      "source": [
        "result = income_browser.aggregate()\n",
        "print(result.summary)"
      ]
    },
    {
      "cell_type": "code",
      "execution_count": null,
      "metadata": {
        "colab": {
          "base_uri": "https://localhost:8080/"
        },
        "id": "0kN0EWGBVSbT",
        "outputId": "680bd334-e808-48aa-9b53-aec2c3f77045"
      },
      "outputs": [
        {
          "output_type": "stream",
          "name": "stdout",
          "text": [
            "{'region': 'Brazil', 'income_sum': 1198200, 'income_avg': 79880.0, 'income_min': 31000, 'income_max': 135000}\n",
            "{'region': 'India', 'income_sum': 1954200, 'income_avg': 84965.21739130435, 'income_min': 35000, 'income_max': 141000}\n",
            "{'region': 'USA', 'income_sum': 2006800, 'income_avg': 91218.18181818182, 'income_min': 45000, 'income_max': 143000}\n"
          ]
        }
      ],
      "source": [
        "result = income_browser.aggregate(drilldown=[\"region\"])\n",
        "for record in result:\n",
        "    print(record)"
      ]
    },
    {
      "cell_type": "code",
      "execution_count": null,
      "metadata": {
        "colab": {
          "base_uri": "https://localhost:8080/"
        },
        "outputId": "c54d45da-744a-48dc-898b-a366dfb53f8b",
        "id": "00ZuG5D_jgVt"
      },
      "outputs": [
        {
          "output_type": "stream",
          "name": "stdout",
          "text": [
            "{'online_shopper': 'No', 'income_sum': 3150400, 'income_avg': 87511.11111111111, 'income_min': 31000, 'income_max': 143000}\n",
            "{'online_shopper': 'Yes', 'income_sum': 2008800, 'income_avg': 83700.0, 'income_min': 41000, 'income_max': 139000}\n"
          ]
        }
      ],
      "source": [
        "result = income_browser.aggregate(drilldown=[\"online_shopper\"])\n",
        "for record in result:\n",
        "    print(record)"
      ]
    },
    {
      "cell_type": "code",
      "source": [
        "import cubes as cubes\n",
        "cuts = [cubes.RangeCut(\"age\", [30], [50])]\n",
        "cell = cubes.Cell(income_cube, cuts)\n",
        "result = income_browser.aggregate(cell, drilldown=[\"age\"])\n",
        "for record in result:\n",
        "    print(record)"
      ],
      "metadata": {
        "colab": {
          "base_uri": "https://localhost:8080/"
        },
        "id": "FB5KA1cdnQii",
        "outputId": "556bd500-5947-4d59-9dd8-0a942e2cec5a"
      },
      "execution_count": null,
      "outputs": [
        {
          "output_type": "stream",
          "name": "stdout",
          "text": [
            "{'age': 30, 'income_sum': 59000, 'income_avg': 59000.0, 'income_min': 59000, 'income_max': 59000}\n",
            "{'age': 32, 'income_sum': 57600, 'income_avg': 57600.0, 'income_min': 57600, 'income_max': 57600}\n",
            "{'age': 34, 'income_sum': 58000, 'income_avg': 58000.0, 'income_min': 58000, 'income_max': 58000}\n",
            "{'age': 35, 'income_sum': 120800, 'income_avg': 60400.0, 'income_min': 56000, 'income_max': 64800}\n",
            "{'age': 36, 'income_sum': 70000, 'income_avg': 70000.0, 'income_min': 70000, 'income_max': 70000}\n",
            "{'age': 39, 'income_sum': 71000, 'income_avg': 71000.0, 'income_min': 71000, 'income_max': 71000}\n",
            "{'age': 40, 'income_sum': 69600, 'income_avg': 69600.0, 'income_min': 69600, 'income_max': 69600}\n",
            "{'age': 41, 'income_sum': 64000, 'income_avg': 64000.0, 'income_min': 64000, 'income_max': 64000}\n",
            "{'age': 42, 'income_sum': 229400, 'income_avg': 76466.66666666667, 'income_min': 72000, 'income_max': 80400}\n",
            "{'age': 43, 'income_sum': 297200, 'income_avg': 74300.0, 'income_min': 69000, 'income_max': 79000}\n",
            "{'age': 45, 'income_sum': 159400, 'income_avg': 79700.0, 'income_min': 79400, 'income_max': 80000}\n",
            "{'age': 46, 'income_sum': 227400, 'income_avg': 75800.0, 'income_min': 62400, 'income_max': 90000}\n",
            "{'age': 48, 'income_sum': 81000, 'income_avg': 81000.0, 'income_min': 81000, 'income_max': 81000}\n",
            "{'age': 49, 'income_sum': 176400, 'income_avg': 88200.0, 'income_min': 86400, 'income_max': 90000}\n",
            "{'age': 50, 'income_sum': 93000, 'income_avg': 93000.0, 'income_min': 93000, 'income_max': 93000}\n"
          ]
        }
      ]
    }
  ]
}